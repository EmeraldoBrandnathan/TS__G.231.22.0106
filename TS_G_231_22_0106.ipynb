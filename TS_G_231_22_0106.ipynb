{
  "nbformat": 4,
  "nbformat_minor": 0,
  "metadata": {
    "colab": {
      "provenance": []
    },
    "kernelspec": {
      "name": "python3",
      "display_name": "Python 3"
    },
    "language_info": {
      "name": "python"
    }
  },
  "cells": [
    {
      "cell_type": "code",
      "execution_count": 5,
      "metadata": {
        "id": "m5HCCUKLEoWq"
      },
      "outputs": [],
      "source": [
        "import numpy"
      ]
    },
    {
      "cell_type": "code",
      "source": [
        "from google.colab import files\n",
        "uploaded = files.upload()"
      ],
      "metadata": {
        "id": "78Ku_QKjKYUE"
      },
      "execution_count": null,
      "outputs": []
    },
    {
      "cell_type": "code",
      "source": [
        "import pandas as pd\n",
        "df = pd.read_csv('AirPassengers.csv')\n",
        "df"
      ],
      "metadata": {
        "id": "_etK4ZXsKdH8"
      },
      "execution_count": null,
      "outputs": []
    },
    {
      "cell_type": "code",
      "source": [
        "from sklearn.metrics import mean_squared_error\n",
        "from math import sqrt\n",
        "from math import log\n",
        "from math import exp\n",
        "from scipy.stats import boxcox\n",
        "from pandas import DataFrame\n",
        "from pandas import Grouper\n",
        "from pandas import Series\n",
        "from pandas import concat\n",
        "from pandas.plotting import lag_plot\n",
        "from matplotlib import pyplot\n",
        "from statsmodels.tsa.stattools import adfuller\n",
        "from statsmodels.tsa.arima_model import ARIMA\n",
        "from statsmodels.tsa.arima_model import ARIMAResults\n",
        "from statsmodels.tsa.seasonal import seasonal_decompose\n",
        "from statsmodels.graphics.tsaplots import plot_acf\n",
        "from statsmodels.graphics.tsaplots import plot_pacf\n",
        "from statsmodels.graphics.gofplots import qqplot"
      ],
      "metadata": {
        "id": "sw2cUAj3KjUr"
      },
      "execution_count": 6,
      "outputs": []
    }
  ]
}